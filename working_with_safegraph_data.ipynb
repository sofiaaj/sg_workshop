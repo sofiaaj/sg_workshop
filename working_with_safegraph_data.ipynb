{
 "cells": [
  {
   "cell_type": "code",
   "execution_count": 77,
   "id": "ed4cb2e4",
   "metadata": {},
   "outputs": [],
   "source": [
    "import pandas as pd\n",
    "import re\n",
    "from timeit import default_timer as timer\n",
    "from joblib import Parallel, delayed\n",
    "from joblib import effective_n_jobs\n",
    "import glob\n",
    "import os\n",
    "import numpy as np\n",
    "import matplotlib.pyplot as plt\n",
    "import random\n",
    "from scipy.stats.mstats import winsorize\n",
    "from IPython.display import Latex\n",
    "from IPython.display import Markdown, display\n",
    "import warnings\n",
    "warnings.filterwarnings('ignore')\n",
    "pd.set_option('display.max_rows', None)\n",
    "pd.set_option('display.max_columns', None)"
   ]
  },
  {
   "cell_type": "markdown",
   "id": "caa02c35",
   "metadata": {},
   "source": [
    "### Examples - Working with Safegraph data"
   ]
  },
  {
   "cell_type": "markdown",
   "id": "eb5b9030",
   "metadata": {},
   "source": [
    "**Timing code**\n",
    "\n",
    "I use the default timer from the timeit library to estimate running time. E.g., function below took ~14 seconds"
   ]
  },
  {
   "cell_type": "code",
   "execution_count": 78,
   "id": "631e5e89",
   "metadata": {},
   "outputs": [],
   "source": [
    "def dummy(i):\n",
    "    df = pd.read_csv('safegraph_data.csv')\n",
    "    row = df.iloc[[1]]"
   ]
  },
  {
   "cell_type": "code",
   "execution_count": 80,
   "id": "2f74fe08",
   "metadata": {},
   "outputs": [
    {
     "data": {
      "text/plain": [
       "8.489704082999197"
      ]
     },
     "execution_count": 80,
     "metadata": {},
     "output_type": "execute_result"
    }
   ],
   "source": [
    "start = timer()\n",
    "for i in range(0,3000):\n",
    "    dummy(i)\n",
    "timer()-start"
   ]
  },
  {
   "cell_type": "markdown",
   "id": "eb7d86ec",
   "metadata": {},
   "source": [
    "**Parallelizing**\n",
    "\n",
    "One way to speed up code is to make use of all CPUs. Multiple libraries in Python allow you to parallel process, below is an example using joblib parallel. Setting n_jobs=-1 will use all available CPUs. If you want to continue using your computer to work on something else, consider n_jobs=-2 or -3."
   ]
  },
  {
   "cell_type": "code",
   "execution_count": 81,
   "id": "14dd3fa1",
   "metadata": {},
   "outputs": [
    {
     "data": {
      "text/plain": [
       "3.7345100000002276"
      ]
     },
     "execution_count": 81,
     "metadata": {},
     "output_type": "execute_result"
    }
   ],
   "source": [
    "start = timer()\n",
    "Parallel(n_jobs=-1)(delayed(dummy)(i) for i in range(0,3000))\n",
    "end = timer()\n",
    "end-start"
   ]
  },
  {
   "cell_type": "markdown",
   "id": "52b55fcf",
   "metadata": {},
   "source": [
    "**Vectorization > Loops**\n",
    "\n",
    "Vectorization is the technique of implementing (NumPy) array operations on a dataset. In the background, it applies the operations to all the elements of an array or series in one go (unlike a ‘for’ loop that manipulates one row at a time).\n",
    "\n",
    "In the dataframe below, let's say we wanted to multiply raw visit counts by the median dwell time (as a fraction of an hour)."
   ]
  },
  {
   "cell_type": "code",
   "execution_count": 83,
   "id": "347a00df",
   "metadata": {},
   "outputs": [
    {
     "data": {
      "text/html": [
       "<div>\n",
       "<style scoped>\n",
       "    .dataframe tbody tr th:only-of-type {\n",
       "        vertical-align: middle;\n",
       "    }\n",
       "\n",
       "    .dataframe tbody tr th {\n",
       "        vertical-align: top;\n",
       "    }\n",
       "\n",
       "    .dataframe thead th {\n",
       "        text-align: right;\n",
       "    }\n",
       "</style>\n",
       "<table border=\"1\" class=\"dataframe\">\n",
       "  <thead>\n",
       "    <tr style=\"text-align: right;\">\n",
       "      <th></th>\n",
       "      <th>V1</th>\n",
       "      <th>placekey</th>\n",
       "      <th>parent_placekey</th>\n",
       "      <th>location_name</th>\n",
       "      <th>city</th>\n",
       "      <th>poi_cbg</th>\n",
       "      <th>visitor_home_cbgs</th>\n",
       "      <th>visitor_home_aggregation</th>\n",
       "      <th>bucketed_dwell_times</th>\n",
       "      <th>naics_code</th>\n",
       "      <th>polygon_wkt</th>\n",
       "      <th>wkt_area_sq_meters</th>\n",
       "      <th>geometry_type</th>\n",
       "      <th>date_range_start</th>\n",
       "      <th>date_range_end</th>\n",
       "      <th>opened_on</th>\n",
       "      <th>closed_on</th>\n",
       "      <th>iso_country_code</th>\n",
       "      <th>visits_by_day</th>\n",
       "      <th>popularity_by_hour</th>\n",
       "      <th>raw_visit_counts</th>\n",
       "      <th>normalized_visits_by_state_scaling</th>\n",
       "      <th>median_dwell</th>\n",
       "      <th>region</th>\n",
       "      <th>top_category</th>\n",
       "      <th>sub_category</th>\n",
       "      <th>scaling_factor</th>\n",
       "    </tr>\n",
       "  </thead>\n",
       "  <tbody>\n",
       "    <tr>\n",
       "      <th>0</th>\n",
       "      <td>63283</td>\n",
       "      <td>zzy-222@5vh-b7t-ckf</td>\n",
       "      <td>NaN</td>\n",
       "      <td>The Dish Stanford Foothills</td>\n",
       "      <td>Stanford</td>\n",
       "      <td>60855115004</td>\n",
       "      <td>{\"\"060855115005\"\":12,\"\"060855115004\"\":9,\"\"0608...</td>\n",
       "      <td>{\"\"06085511500\"\":29,\"\"06085511100\"\":14,\"\"06085...</td>\n",
       "      <td>{\"\"&lt;5\"\":80,\"\"5-10\"\":461,\"\"11-20\"\":217,\"\"21-60\"...</td>\n",
       "      <td>712190</td>\n",
       "      <td>POLYGON ((-122.16060739633784 37.410283, -122....</td>\n",
       "      <td>1236</td>\n",
       "      <td>POLYGON</td>\n",
       "      <td>2020-10-01T07:00:00Z</td>\n",
       "      <td>2020-11-01T07:00:00Z</td>\n",
       "      <td>NaN</td>\n",
       "      <td>NaN</td>\n",
       "      <td>US</td>\n",
       "      <td>[77,64,48,44,79,92,71,113,92,60,51,76,88,91,70...</td>\n",
       "      <td>[102,96,78,78,83,150,234,316,476,554,582,612,5...</td>\n",
       "      <td>2252</td>\n",
       "      <td>47345.778627</td>\n",
       "      <td>50.0</td>\n",
       "      <td>CA</td>\n",
       "      <td>Museums, Historical Sites, and Similar Institu...</td>\n",
       "      <td>Nature Parks and Other Similar Institutions</td>\n",
       "      <td>21.02388</td>\n",
       "    </tr>\n",
       "    <tr>\n",
       "      <th>1</th>\n",
       "      <td>414659</td>\n",
       "      <td>222-222@5vh-b7v-kcq</td>\n",
       "      <td>NaN</td>\n",
       "      <td>Terman Park</td>\n",
       "      <td>Stanford</td>\n",
       "      <td>60855116081</td>\n",
       "      <td>{\"\"060855031132\"\":4}</td>\n",
       "      <td>{\"\"06081610400\"\":4}</td>\n",
       "      <td>{\"\"&lt;5\"\":0,\"\"5-10\"\":3,\"\"11-20\"\":2,\"\"21-60\"\":6,\"...</td>\n",
       "      <td>712190</td>\n",
       "      <td>POLYGON ((-122.17320150599994 37.4259167750000...</td>\n",
       "      <td>270</td>\n",
       "      <td>POLYGON</td>\n",
       "      <td>2020-10-01T07:00:00Z</td>\n",
       "      <td>2020-11-01T07:00:00Z</td>\n",
       "      <td>NaN</td>\n",
       "      <td>NaN</td>\n",
       "      <td>US</td>\n",
       "      <td>[0,0,0,0,3,0,2,0,0,0,0,1,0,1,0,1,0,0,0,1,1,0,0...</td>\n",
       "      <td>[0,0,0,0,1,1,2,2,3,7,7,6,6,5,3,2,0,1,1,0,1,0,0,0]</td>\n",
       "      <td>18</td>\n",
       "      <td>378.429847</td>\n",
       "      <td>40.5</td>\n",
       "      <td>CA</td>\n",
       "      <td>Museums, Historical Sites, and Similar Institu...</td>\n",
       "      <td>Nature Parks and Other Similar Institutions</td>\n",
       "      <td>21.02388</td>\n",
       "    </tr>\n",
       "    <tr>\n",
       "      <th>2</th>\n",
       "      <td>452914</td>\n",
       "      <td>zzy-223@5vh-b7v-j5f</td>\n",
       "      <td>NaN</td>\n",
       "      <td>Rodin Sculpture Garden</td>\n",
       "      <td>Stanford</td>\n",
       "      <td>60855116081</td>\n",
       "      <td>{\"\"060855130002\"\":7,\"\"340030472004\"\":5,\"\"06001...</td>\n",
       "      <td>{\"\"06085513000\"\":12,\"\"06013303102\"\":7,\"\"060855...</td>\n",
       "      <td>{\"\"&lt;5\"\":13,\"\"5-10\"\":89,\"\"11-20\"\":58,\"\"21-60\"\":...</td>\n",
       "      <td>712110</td>\n",
       "      <td>POLYGON ((-122.17062963020015 37.4322972, -122...</td>\n",
       "      <td>1236</td>\n",
       "      <td>POLYGON</td>\n",
       "      <td>2020-10-01T07:00:00Z</td>\n",
       "      <td>2020-11-01T07:00:00Z</td>\n",
       "      <td>NaN</td>\n",
       "      <td>NaN</td>\n",
       "      <td>US</td>\n",
       "      <td>[16,20,12,13,23,22,22,20,16,11,17,21,20,16,11,...</td>\n",
       "      <td>[11,10,15,7,6,17,22,25,47,63,84,86,79,72,79,84...</td>\n",
       "      <td>499</td>\n",
       "      <td>10490.916312</td>\n",
       "      <td>40.0</td>\n",
       "      <td>CA</td>\n",
       "      <td>Museums, Historical Sites, and Similar Institu...</td>\n",
       "      <td>Museums</td>\n",
       "      <td>21.02388</td>\n",
       "    </tr>\n",
       "  </tbody>\n",
       "</table>\n",
       "</div>"
      ],
      "text/plain": [
       "       V1             placekey parent_placekey                location_name  \\\n",
       "0   63283  zzy-222@5vh-b7t-ckf             NaN  The Dish Stanford Foothills   \n",
       "1  414659  222-222@5vh-b7v-kcq             NaN                  Terman Park   \n",
       "2  452914  zzy-223@5vh-b7v-j5f             NaN       Rodin Sculpture Garden   \n",
       "\n",
       "       city      poi_cbg                                  visitor_home_cbgs  \\\n",
       "0  Stanford  60855115004  {\"\"060855115005\"\":12,\"\"060855115004\"\":9,\"\"0608...   \n",
       "1  Stanford  60855116081                               {\"\"060855031132\"\":4}   \n",
       "2  Stanford  60855116081  {\"\"060855130002\"\":7,\"\"340030472004\"\":5,\"\"06001...   \n",
       "\n",
       "                            visitor_home_aggregation  \\\n",
       "0  {\"\"06085511500\"\":29,\"\"06085511100\"\":14,\"\"06085...   \n",
       "1                                {\"\"06081610400\"\":4}   \n",
       "2  {\"\"06085513000\"\":12,\"\"06013303102\"\":7,\"\"060855...   \n",
       "\n",
       "                                bucketed_dwell_times  naics_code  \\\n",
       "0  {\"\"<5\"\":80,\"\"5-10\"\":461,\"\"11-20\"\":217,\"\"21-60\"...      712190   \n",
       "1  {\"\"<5\"\":0,\"\"5-10\"\":3,\"\"11-20\"\":2,\"\"21-60\"\":6,\"...      712190   \n",
       "2  {\"\"<5\"\":13,\"\"5-10\"\":89,\"\"11-20\"\":58,\"\"21-60\"\":...      712110   \n",
       "\n",
       "                                         polygon_wkt  wkt_area_sq_meters  \\\n",
       "0  POLYGON ((-122.16060739633784 37.410283, -122....                1236   \n",
       "1  POLYGON ((-122.17320150599994 37.4259167750000...                 270   \n",
       "2  POLYGON ((-122.17062963020015 37.4322972, -122...                1236   \n",
       "\n",
       "  geometry_type      date_range_start        date_range_end  opened_on  \\\n",
       "0       POLYGON  2020-10-01T07:00:00Z  2020-11-01T07:00:00Z        NaN   \n",
       "1       POLYGON  2020-10-01T07:00:00Z  2020-11-01T07:00:00Z        NaN   \n",
       "2       POLYGON  2020-10-01T07:00:00Z  2020-11-01T07:00:00Z        NaN   \n",
       "\n",
       "  closed_on iso_country_code  \\\n",
       "0       NaN               US   \n",
       "1       NaN               US   \n",
       "2       NaN               US   \n",
       "\n",
       "                                       visits_by_day  \\\n",
       "0  [77,64,48,44,79,92,71,113,92,60,51,76,88,91,70...   \n",
       "1  [0,0,0,0,3,0,2,0,0,0,0,1,0,1,0,1,0,0,0,1,1,0,0...   \n",
       "2  [16,20,12,13,23,22,22,20,16,11,17,21,20,16,11,...   \n",
       "\n",
       "                                  popularity_by_hour  raw_visit_counts  \\\n",
       "0  [102,96,78,78,83,150,234,316,476,554,582,612,5...              2252   \n",
       "1  [0,0,0,0,1,1,2,2,3,7,7,6,6,5,3,2,0,1,1,0,1,0,0,0]                18   \n",
       "2  [11,10,15,7,6,17,22,25,47,63,84,86,79,72,79,84...               499   \n",
       "\n",
       "   normalized_visits_by_state_scaling  median_dwell region  \\\n",
       "0                        47345.778627          50.0     CA   \n",
       "1                          378.429847          40.5     CA   \n",
       "2                        10490.916312          40.0     CA   \n",
       "\n",
       "                                        top_category  \\\n",
       "0  Museums, Historical Sites, and Similar Institu...   \n",
       "1  Museums, Historical Sites, and Similar Institu...   \n",
       "2  Museums, Historical Sites, and Similar Institu...   \n",
       "\n",
       "                                  sub_category  scaling_factor  \n",
       "0  Nature Parks and Other Similar Institutions        21.02388  \n",
       "1  Nature Parks and Other Similar Institutions        21.02388  \n",
       "2                                      Museums        21.02388  "
      ]
     },
     "execution_count": 83,
     "metadata": {},
     "output_type": "execute_result"
    }
   ],
   "source": [
    "df = pd.read_csv('safegraph_data.csv')\n",
    "df.head(3)"
   ]
  },
  {
   "cell_type": "markdown",
   "id": "a3d8564d",
   "metadata": {},
   "source": [
    "One instinct might be to do this row by row:"
   ]
  },
  {
   "cell_type": "code",
   "execution_count": 64,
   "id": "701fdd81",
   "metadata": {},
   "outputs": [
    {
     "name": "stdout",
     "output_type": "stream",
     "text": [
      "0.01189129199974559\n"
     ]
    }
   ],
   "source": [
    "start = timer()\n",
    "# Iterating through DataFrame using iterrows\n",
    "for idx, row in df.iterrows():\n",
    "    # creating a new column \n",
    "    df.at[idx,'visits_new'] = row[\"raw_visit_counts\"] * (row[\"median_dwell\"]/60)  \n",
    "rt1 = timer() - start\n",
    "print(rt1)"
   ]
  },
  {
   "cell_type": "code",
   "execution_count": 62,
   "id": "16dc5286",
   "metadata": {},
   "outputs": [
    {
     "name": "stdout",
     "output_type": "stream",
     "text": [
      "0.0017731660000208649\n"
     ]
    }
   ],
   "source": [
    "start = timer()\n",
    "df[\"visits_new\"] = df[\"raw_visit_counts\"] * df[\"median_dwell\"]/60\n",
    "rt2 = timer() - start\n",
    "print(rt2)"
   ]
  },
  {
   "cell_type": "markdown",
   "id": "b8575467",
   "metadata": {},
   "source": [
    "We see that iterating through dataframe is almost 7 times slower. This makes a huge difference when working with millions of rows."
   ]
  },
  {
   "cell_type": "markdown",
   "id": "fadfc67a",
   "metadata": {},
   "source": [
    "**Matrix operations**\n",
    "\n",
    "In a similar vein, matrix operations using Numpy are almost always the fastest way of working with the data. In the data below, let's say we wanted to estimate the number of visitors per hour per day. Monthly data on a POI contains information on the number of visits to a POI on a given day. As an example, below is an array *d* showing number of visitors to the dish in October 2020:"
   ]
  },
  {
   "cell_type": "code",
   "execution_count": 70,
   "id": "99efce67",
   "metadata": {},
   "outputs": [
    {
     "data": {
      "text/html": [
       "<div>\n",
       "<style scoped>\n",
       "    .dataframe tbody tr th:only-of-type {\n",
       "        vertical-align: middle;\n",
       "    }\n",
       "\n",
       "    .dataframe tbody tr th {\n",
       "        vertical-align: top;\n",
       "    }\n",
       "\n",
       "    .dataframe thead th {\n",
       "        text-align: right;\n",
       "    }\n",
       "</style>\n",
       "<table border=\"1\" class=\"dataframe\">\n",
       "  <thead>\n",
       "    <tr style=\"text-align: right;\">\n",
       "      <th></th>\n",
       "      <th>V1</th>\n",
       "      <th>placekey</th>\n",
       "      <th>parent_placekey</th>\n",
       "      <th>location_name</th>\n",
       "      <th>city</th>\n",
       "      <th>poi_cbg</th>\n",
       "      <th>visitor_home_cbgs</th>\n",
       "      <th>visitor_home_aggregation</th>\n",
       "      <th>bucketed_dwell_times</th>\n",
       "      <th>naics_code</th>\n",
       "      <th>...</th>\n",
       "      <th>visits_by_day</th>\n",
       "      <th>popularity_by_hour</th>\n",
       "      <th>raw_visit_counts</th>\n",
       "      <th>normalized_visits_by_state_scaling</th>\n",
       "      <th>median_dwell</th>\n",
       "      <th>region</th>\n",
       "      <th>top_category</th>\n",
       "      <th>sub_category</th>\n",
       "      <th>scaling_factor</th>\n",
       "      <th>visits_new</th>\n",
       "    </tr>\n",
       "  </thead>\n",
       "  <tbody>\n",
       "    <tr>\n",
       "      <th>0</th>\n",
       "      <td>63283</td>\n",
       "      <td>zzy-222@5vh-b7t-ckf</td>\n",
       "      <td>NaN</td>\n",
       "      <td>The Dish Stanford Foothills</td>\n",
       "      <td>Stanford</td>\n",
       "      <td>60855115004</td>\n",
       "      <td>{\"\"060855115005\"\":12,\"\"060855115004\"\":9,\"\"0608...</td>\n",
       "      <td>{\"\"06085511500\"\":29,\"\"06085511100\"\":14,\"\"06085...</td>\n",
       "      <td>{\"\"&lt;5\"\":80,\"\"5-10\"\":461,\"\"11-20\"\":217,\"\"21-60\"...</td>\n",
       "      <td>712190</td>\n",
       "      <td>...</td>\n",
       "      <td>[77,64,48,44,79,92,71,113,92,60,51,76,88,91,70...</td>\n",
       "      <td>[102,96,78,78,83,150,234,316,476,554,582,612,5...</td>\n",
       "      <td>2252</td>\n",
       "      <td>47345.778627</td>\n",
       "      <td>50.0</td>\n",
       "      <td>CA</td>\n",
       "      <td>Museums, Historical Sites, and Similar Institu...</td>\n",
       "      <td>Nature Parks and Other Similar Institutions</td>\n",
       "      <td>21.02388</td>\n",
       "      <td>1876.666667</td>\n",
       "    </tr>\n",
       "  </tbody>\n",
       "</table>\n",
       "<p>1 rows × 28 columns</p>\n",
       "</div>"
      ],
      "text/plain": [
       "      V1             placekey parent_placekey                location_name  \\\n",
       "0  63283  zzy-222@5vh-b7t-ckf             NaN  The Dish Stanford Foothills   \n",
       "\n",
       "       city      poi_cbg                                  visitor_home_cbgs  \\\n",
       "0  Stanford  60855115004  {\"\"060855115005\"\":12,\"\"060855115004\"\":9,\"\"0608...   \n",
       "\n",
       "                            visitor_home_aggregation  \\\n",
       "0  {\"\"06085511500\"\":29,\"\"06085511100\"\":14,\"\"06085...   \n",
       "\n",
       "                                bucketed_dwell_times  naics_code  ...  \\\n",
       "0  {\"\"<5\"\":80,\"\"5-10\"\":461,\"\"11-20\"\":217,\"\"21-60\"...      712190  ...   \n",
       "\n",
       "                                       visits_by_day  \\\n",
       "0  [77,64,48,44,79,92,71,113,92,60,51,76,88,91,70...   \n",
       "\n",
       "                                  popularity_by_hour raw_visit_counts  \\\n",
       "0  [102,96,78,78,83,150,234,316,476,554,582,612,5...             2252   \n",
       "\n",
       "  normalized_visits_by_state_scaling median_dwell  region  \\\n",
       "0                       47345.778627         50.0      CA   \n",
       "\n",
       "                                        top_category  \\\n",
       "0  Museums, Historical Sites, and Similar Institu...   \n",
       "\n",
       "                                  sub_category scaling_factor   visits_new  \n",
       "0  Nature Parks and Other Similar Institutions       21.02388  1876.666667  \n",
       "\n",
       "[1 rows x 28 columns]"
      ]
     },
     "execution_count": 70,
     "metadata": {},
     "output_type": "execute_result"
    }
   ],
   "source": [
    "def get_arrays(r):\n",
    "    r = [re.sub('[\\[\\]]','',i).split(',') for i in r]\n",
    "    r = [[int(j) for j in i] for i in r]\n",
    "    r = np.array(r)\n",
    "    return(r)\n",
    "\n",
    "dish = df.head(1)\n",
    "dish"
   ]
  },
  {
   "cell_type": "code",
   "execution_count": 152,
   "id": "f3656b5d",
   "metadata": {},
   "outputs": [
    {
     "data": {
      "text/plain": [
       "array([[ 77,  64,  48,  44,  79,  92,  71, 113,  92,  60,  51,  76,  88,\n",
       "         91,  70,  77,  49,  34,  76, 104,  82,  87,  91,  42,  36,  87,\n",
       "         76,  89,  88,  76,  42]])"
      ]
     },
     "execution_count": 152,
     "metadata": {},
     "output_type": "execute_result"
    }
   ],
   "source": [
    "day_visits = get_arrays(dish['visits_by_day'])\n",
    "day_visits"
   ]
  },
  {
   "cell_type": "markdown",
   "id": "0917741d",
   "metadata": {},
   "source": [
    "However, it is unlikely that the average number of people at 2 am was the same as the people there at 1 pm. To capture changes in visitors throughout the day, we can use data on the popularity of the POI by hour. Showing this data for the dish:"
   ]
  },
  {
   "cell_type": "code",
   "execution_count": 153,
   "id": "b8c0b92d",
   "metadata": {},
   "outputs": [
    {
     "data": {
      "text/plain": [
       "array([[102,  96,  78,  78,  83, 150, 234, 316, 476, 554, 582, 612, 587,\n",
       "        527, 470, 435, 358, 253, 259, 190, 168, 142, 121, 112]])"
      ]
     },
     "execution_count": 153,
     "metadata": {},
     "output_type": "execute_result"
    }
   ],
   "source": [
    "hour_visits = get_arrays(dish['popularity_by_hour'])\n",
    "hour_visits"
   ]
  },
  {
   "cell_type": "markdown",
   "id": "755c4ed8",
   "metadata": {},
   "source": [
    "We rewrite this by dividing each element by the sum of the row. E.g., for row above:\n",
    "\n",
    "$$\n",
    "h = \\frac{1}{6983}h\n",
    "$$"
   ]
  },
  {
   "cell_type": "code",
   "execution_count": 154,
   "id": "c17565af",
   "metadata": {},
   "outputs": [
    {
     "data": {
      "text/plain": [
       "array([[0.0146069 , 0.01374767, 0.01116998, 0.01116998, 0.01188601,\n",
       "        0.02148074, 0.03350995, 0.04525276, 0.06816554, 0.07933553,\n",
       "        0.08334527, 0.08764141, 0.08406129, 0.075469  , 0.06730632,\n",
       "        0.06229414, 0.05126736, 0.03623085, 0.03709008, 0.02720894,\n",
       "        0.02405843, 0.0203351 , 0.0173278 , 0.01603895]])"
      ]
     },
     "execution_count": 154,
     "metadata": {},
     "output_type": "execute_result"
    }
   ],
   "source": [
    "hour_visits = hour_visits/hour_visits.sum(axis=1)[:,None]\n",
    "hour_visits"
   ]
  },
  {
   "cell_type": "markdown",
   "id": "b9448347",
   "metadata": {},
   "source": [
    "Then, we want to multiply this array by the daily visitor array. One possibility would be to loop through array *d* and multiply this number by *h*. "
   ]
  },
  {
   "cell_type": "code",
   "execution_count": 189,
   "id": "419212f5",
   "metadata": {},
   "outputs": [
    {
     "name": "stdout",
     "output_type": "stream",
     "text": [
      "0.0018409999993309611\n"
     ]
    }
   ],
   "source": [
    "start = timer()\n",
    "visits_hr_day1 = np.zeros([31,24])\n",
    "for i in range(0,len(day_visits[0])):\n",
    "    v = day_visits[0][i]\n",
    "    curr = hour_visits*v\n",
    "    visits_hr_day1 = np.append(visits_hr_day1,curr)\n",
    "t1 = timer()-start\n",
    "print(t1)"
   ]
  },
  {
   "cell_type": "markdown",
   "id": "21f2f2c9",
   "metadata": {},
   "source": [
    "While this would work, it would be much faster to compute this in a single operation by using dot products. We can estimate the number of visits X on day d at hour h as follows:\n",
    "\n",
    "$$\n",
    "\\begin{pmatrix}\n",
    "  x_{1,1} & x_{1,2} & \\cdots & x_{1,24} \\\\\n",
    "  x_{2,1} & x_{2,2} & \\cdots & x_{2,n} \\\\\n",
    "  \\vdots  & \\vdots  & \\ddots & \\vdots  \\\\\n",
    "  x_{30,1} & x_{30,2} & \\cdots & x_{30,24} \n",
    "\\end{pmatrix}\n",
    "=\n",
    "\\begin{pmatrix}\n",
    "  d_{1} \\\\\n",
    "  d_{2} \\\\\n",
    "  \\vdots \\\\\n",
    "  d_{30}\n",
    "\\end{pmatrix}\n",
    "\\cdot\n",
    "\\left(\n",
    "\\frac{1}{\\sum_{n=1}^{n=24}h_n}\n",
    "\\begin{pmatrix}\n",
    "  h_{1} \\\\ \n",
    "  h_{2} \\\\ \n",
    "  \\vdots \\\\\n",
    "  h_{24}\n",
    "\\end{pmatrix}\n",
    "\\right)^\\intercal\n",
    "$$"
   ]
  },
  {
   "cell_type": "code",
   "execution_count": 190,
   "id": "5b16f9df",
   "metadata": {},
   "outputs": [
    {
     "name": "stdout",
     "output_type": "stream",
     "text": [
      "0.0006882079997012625\n"
     ]
    }
   ],
   "source": [
    "start = timer()\n",
    "d1 = np.asmatrix(day_visits[0]).reshape(-1,1)\n",
    "h1 = np.asmatrix(hour_visits[0])\n",
    "visits_hr_day2 = np.dot(d1,h1)\n",
    "t2 = timer()-start\n",
    "print(t2)"
   ]
  },
  {
   "cell_type": "code",
   "execution_count": 191,
   "id": "669eecaf",
   "metadata": {},
   "outputs": [
    {
     "data": {
      "text/plain": [
       "2.675063353128855"
      ]
     },
     "execution_count": 191,
     "metadata": {},
     "output_type": "execute_result"
    }
   ],
   "source": [
    "t1/t2"
   ]
  }
 ],
 "metadata": {
  "kernelspec": {
   "display_name": "Python 3 (ipykernel)",
   "language": "python",
   "name": "python3"
  },
  "language_info": {
   "codemirror_mode": {
    "name": "ipython",
    "version": 3
   },
   "file_extension": ".py",
   "mimetype": "text/x-python",
   "name": "python",
   "nbconvert_exporter": "python",
   "pygments_lexer": "ipython3",
   "version": "3.9.12"
  }
 },
 "nbformat": 4,
 "nbformat_minor": 5
}
